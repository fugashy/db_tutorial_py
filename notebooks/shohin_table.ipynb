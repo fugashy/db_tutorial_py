{
 "cells": [
  {
   "cell_type": "code",
   "execution_count": 1,
   "id": "496719ab-a7b5-410d-aab7-7913dbe56948",
   "metadata": {},
   "outputs": [],
   "source": [
    "import psycopg2\n",
    "import pandas as pd\n",
    "\n",
    "username = \"postgres\"\n",
    "password = \"test\"\n",
    "hostname = \"db\"\n",
    "port = \"5432\"\n",
    "database = \"test\"\n",
    "\n",
    "dst = f\"postgresql://{username}:{password}@{hostname}:{port}/{database}\"\n",
    "con = psycopg2.connect(dst)"
   ]
  },
  {
   "cell_type": "code",
   "execution_count": 11,
   "id": "6f4602c4-65e0-4eeb-81e9-ec8eb2f94fe9",
   "metadata": {},
   "outputs": [
    {
     "name": "stdout",
     "output_type": "stream",
     "text": [
      "Empty DataFrame\n",
      "Columns: [shohin_id, shohin_mei, shohin_bunrui, hanbai_tanka, shiire_tanka, torokubi]\n",
      "Index: []\n"
     ]
    }
   ],
   "source": [
    "# create table\n",
    "def create_shohin_table(cur):\n",
    "    table_name = 'shohin'\n",
    "    cur.execute(f\"drop table if exists {table_name}\")\n",
    "    cur.execute(f\"\"\"create table {table_name} (\n",
    "        shohin_id char(4) not null,\n",
    "        shohin_mei varchar(100) not null,\n",
    "        shohin_bunrui varchar(32) not null,\n",
    "        hanbai_tanka integer,\n",
    "        shiire_tanka integer,\n",
    "        torokubi date,\n",
    "        primary key (shohin_id));\"\"\")\n",
    "    return cur\n",
    "\n",
    "with psycopg2.connect(dst) as con, con.cursor() as cur:\n",
    "    try:\n",
    "        create_shohin_table(cur)\n",
    "        sql = f\"select * from shohin\"\n",
    "        print(pd.read_sql(sql, con=con))\n",
    "    except psycopg2.Error as er:\n",
    "        print('psycopg2.Error:', er)"
   ]
  },
  {
   "cell_type": "code",
   "execution_count": 19,
   "id": "38933ef9-a144-46dc-b490-35856c083ff8",
   "metadata": {},
   "outputs": [
    {
     "name": "stdout",
     "output_type": "stream",
     "text": [
      "expected error Execution failed on sql 'select * from shohin': relation \"shohin\" does not exist\n",
      "LINE 1: select * from shohin\n",
      "                      ^\n",
      "\n"
     ]
    }
   ],
   "source": [
    "# drop table\n",
    "with psycopg2.connect(dst) as con, con.cursor() as cur:\n",
    "    table_name = 'shohin'\n",
    "    try:\n",
    "        cur.execute(f\"drop table {table_name};\")\n",
    "        sql = f\"select * from shohin\"\n",
    "        print(pd.read_sql(sql, con=con))\n",
    "    except pd.io.sql.DatabaseError as e:\n",
    "        print(f\"expected error {e}\") "
   ]
  },
  {
   "cell_type": "code",
   "execution_count": 24,
   "id": "c16b3eac-09e7-4c37-a16a-8ec35937d271",
   "metadata": {},
   "outputs": [
    {
     "name": "stdout",
     "output_type": "stream",
     "text": [
      "Empty DataFrame\n",
      "Columns: [shohin_id, shohin_mei, shohin_bunrui, hanbai_tanka, shiire_tanka, torokubi]\n",
      "Index: []\n",
      "Empty DataFrame\n",
      "Columns: [shohin_id, shohin_mei, shohin_bunrui, hanbai_tanka, shiire_tanka, torokubi, shohin_mai_kana]\n",
      "Index: []\n",
      "Empty DataFrame\n",
      "Columns: [shohin_id, shohin_mei, shohin_bunrui, hanbai_tanka, shiire_tanka, torokubi]\n",
      "Index: []\n"
     ]
    }
   ],
   "source": [
    "# arrange column\n",
    "with psycopg2.connect(dst) as con, con.cursor() as cur:\n",
    "    table_name = 'shohin'\n",
    "    try:\n",
    "        create_shohin_table(cur)\n",
    "        \n",
    "        sql = f\"select * from {table_name};\"\n",
    "        print(pd.read_sql(sql, con=con))\n",
    "        \n",
    "        cur.execute(f\"alter table {table_name} add column shohin_mai_kana varchar(100)\")\n",
    "        print(pd.read_sql(sql, con=con))\n",
    "        \n",
    "        cur.execute(f\"alter table {table_name} drop column shohin_mai_kana;\")\n",
    "        print(pd.read_sql(sql, con=con))\n",
    "    except psycopg2.Error as e:\n",
    "        print(f\"unexpected error: {e}\")"
   ]
  },
  {
   "cell_type": "code",
   "execution_count": 40,
   "id": "f7f97bd6-1ecd-4bc1-8e03-ead991ac8c60",
   "metadata": {},
   "outputs": [
    {
     "name": "stdout",
     "output_type": "stream",
     "text": [
      "Empty DataFrame\n",
      "Columns: [shohin_id, shohin_mei, shohin_bunrui, hanbai_tanka, shiire_tanka, torokubi]\n",
      "Index: []\n",
      "  shohin_id shohin_mei shohin_bunrui  hanbai_tanka  shiire_tanka torokubi   \n",
      "0  0001         Tシャツ        衣服        1000           500.0        2009-09-20\n",
      "1  0002       穴あけパンチ      事務用品         500           320.0        2009-09-11\n",
      "2  0003      カッターシャツ        衣服        4000          2800.0              None\n",
      "3  0004           包丁    キッチン用品        3000          2800.0        2009-09-20\n",
      "4  0005          圧力鍋    キッチン用品        6800          5000.0        2009-01-15\n",
      "5  0006         フォーク    キッチン用品         500             NaN        2009-09-20\n",
      "6  0007        おろしがね    キッチン用品         880           790.0        2008-04-28\n",
      "7  0008        ボールペン      事務用品         100             NaN        2009-11-11\n"
     ]
    }
   ],
   "source": [
    "# register data list\n",
    "with psycopg2.connect(dst) as con, con.cursor() as cur:\n",
    "    table_name = 'shohin'\n",
    "    try:\n",
    "        create_shohin_table(cur)\n",
    "        \n",
    "        table_sql = f\"select * from {table_name};\"\n",
    "        print(pd.read_sql(table_sql, con=con))\n",
    "        \n",
    "        insert_sql = f\"\"\"begin transaction;\n",
    "            insert into {table_name} values ('0001', 'Tシャツ',       '衣服',        1000, 500,   '2009-09-20');\n",
    "            insert into {table_name} values ('0002', '穴あけパンチ',   '事務用品',     500,  320,   '2009-09-11');\n",
    "            insert into {table_name} values ('0003', 'カッターシャツ',  '衣服',       4000,  2800,  null);\n",
    "            insert into {table_name} values ('0004', '包丁',          'キッチン用品', 3000, 2800,  '2009-09-20');\n",
    "            insert into {table_name} values ('0005', '圧力鍋',        'キッチン用品', 6800,  5000, '2009-01-15');\n",
    "            insert into {table_name} values ('0006', 'フォーク',       'キッチン用品', 500,  null, '2009-09-20');\n",
    "            insert into {table_name} values ('0007', 'おろしがね',     'キッチン用品', 880,  790,  '2008-04-28');\n",
    "            insert into {table_name} values ('0008', 'ボールペン',     '事務用品',    100,   null, '2009-11-11');\n",
    "            commit;\"\"\"\n",
    "        cur.execute(insert_sql)\n",
    "        print(pd.read_sql(table_sql, con=con))\n",
    "    except psycopg2.Error as e:\n",
    "        print(f\"unexpected error: {e}\")"
   ]
  },
  {
   "cell_type": "code",
   "execution_count": 41,
   "id": "ee856af3-1117-4b9a-b451-91cdebbd2298",
   "metadata": {},
   "outputs": [
    {
     "name": "stdout",
     "output_type": "stream",
     "text": [
      "  shohin_mei  shiire_tanka\n",
      "0       Tシャツ         500.0\n",
      "1     穴あけパンチ         320.0\n",
      "2    カッターシャツ        2800.0\n",
      "3         包丁        2800.0\n",
      "4        圧力鍋        5000.0\n",
      "5       フォーク           NaN\n",
      "6      おろしがね         790.0\n",
      "7      ボールペン           NaN\n"
     ]
    }
   ],
   "source": [
    "# select column\n",
    "pd.options.display.colheader_justify = 'right'\n",
    "with psycopg2.connect(dst) as con, con.cursor() as cur:\n",
    "    table_name = 'shohin'\n",
    "    try:\n",
    "        sql = f\"select shohin_mei, shiire_tanka from {table_name};\"\n",
    "        print(pd.read_sql(sql, con=con))\n",
    "    except psycopg2.Error as e:\n",
    "        print(f\"unexpected error: {e}\")"
   ]
  },
  {
   "cell_type": "code",
   "execution_count": 43,
   "id": "cca1fa45-22ce-49fb-9e07-d67e2f20241e",
   "metadata": {},
   "outputs": [
    {
     "name": "stdout",
     "output_type": "stream",
     "text": [
      "     id    namae   tanka\n",
      "0  0001     Tシャツ   500.0\n",
      "1  0002   穴あけパンチ   320.0\n",
      "2  0003  カッターシャツ  2800.0\n",
      "3  0004       包丁  2800.0\n",
      "4  0005      圧力鍋  5000.0\n",
      "5  0006     フォーク     NaN\n",
      "6  0007    おろしがね   790.0\n",
      "7  0008    ボールペン     NaN\n"
     ]
    }
   ],
   "source": [
    "# select column as original names\n",
    "with psycopg2.connect(dst) as con, con.cursor() as cur:\n",
    "    table_name = 'shohin'\n",
    "    try:\n",
    "        sql = f\"\"\"select shohin_id    as id,\n",
    "                         shohin_mei   as namae,\n",
    "                         shiire_tanka as tanka\n",
    "                    from shohin\"\"\"\n",
    "        print(pd.read_sql(sql, con=con))\n",
    "    except psycopg2.Error as e:\n",
    "        print(f\"unexpected error: {e}\")"
   ]
  },
  {
   "cell_type": "code",
   "execution_count": 44,
   "id": "f6e67f16-3b1b-47f1-8043-a99807561420",
   "metadata": {},
   "outputs": [
    {
     "name": "stdout",
     "output_type": "stream",
     "text": [
      "  mohiretsu  kazu    id    namae   tanka\n",
      "0        商品    38  0001     Tシャツ   500.0\n",
      "1        商品    38  0002   穴あけパンチ   320.0\n",
      "2        商品    38  0003  カッターシャツ  2800.0\n",
      "3        商品    38  0004       包丁  2800.0\n",
      "4        商品    38  0005      圧力鍋  5000.0\n",
      "5        商品    38  0006     フォーク     NaN\n",
      "6        商品    38  0007    おろしがね   790.0\n",
      "7        商品    38  0008    ボールペン     NaN\n"
     ]
    }
   ],
   "source": [
    "# output constants\n",
    "with psycopg2.connect(dst) as con, con.cursor() as cur:\n",
    "    table_name = 'shohin'\n",
    "    try:\n",
    "        sql = f\"\"\"select '商品'       as mohiretsu,\n",
    "                         38           as kazu,\n",
    "                         shohin_id    as id,\n",
    "                         shohin_mei   as namae,\n",
    "                         shiire_tanka as tanka\n",
    "                    from shohin\"\"\"\n",
    "        print(pd.read_sql(sql, con=con))\n",
    "    except psycopg2.Error as e:\n",
    "        print(f\"unexpected error: {e}\")"
   ]
  },
  {
   "cell_type": "code",
   "execution_count": 46,
   "id": "2c423bb0-fc23-4aa2-b66d-26adb813c684",
   "metadata": {},
   "outputs": [
    {
     "name": "stdout",
     "output_type": "stream",
     "text": [
      "  shohin_bunrui\n",
      "0            衣服\n",
      "1          事務用品\n",
      "2            衣服\n",
      "3        キッチン用品\n",
      "4        キッチン用品\n",
      "5        キッチン用品\n",
      "6        キッチン用品\n",
      "7          事務用品\n",
      "  shohin_bunrui\n",
      "0        キッチン用品\n",
      "1            衣服\n",
      "2          事務用品\n"
     ]
    }
   ],
   "source": [
    "# distinction\n",
    "with psycopg2.connect(dst) as con, con.cursor() as cur:\n",
    "    table_name = 'shohin'\n",
    "    try:\n",
    "        sql = f\"\"\"select shohin_bunrui\n",
    "                    from shohin\"\"\"\n",
    "        print(pd.read_sql(sql, con=con))\n",
    "        \n",
    "        sql = f\"\"\"select distinct shohin_bunrui\n",
    "                    from shohin\"\"\"\n",
    "        print(pd.read_sql(sql, con=con))\n",
    "    except psycopg2.Error as e:\n",
    "        print(f\"unexpected error: {e}\")"
   ]
  },
  {
   "cell_type": "code",
   "execution_count": 47,
   "id": "e8c71229-1ee4-4492-98f7-94147481fda4",
   "metadata": {},
   "outputs": [
    {
     "name": "stdout",
     "output_type": "stream",
     "text": [
      "   shiire_tanka\n",
      "0         500.0\n",
      "1         320.0\n",
      "2        2800.0\n",
      "3        2800.0\n",
      "4        5000.0\n",
      "5           NaN\n",
      "6         790.0\n",
      "7           NaN\n",
      "   shiire_tanka\n",
      "0           NaN\n",
      "1         320.0\n",
      "2         500.0\n",
      "3        2800.0\n",
      "4        5000.0\n",
      "5         790.0\n"
     ]
    }
   ],
   "source": [
    "# distinction with null data\n",
    "with psycopg2.connect(dst) as con, con.cursor() as cur:\n",
    "    table_name = 'shohin'\n",
    "    try:\n",
    "        sql = f\"\"\"select shiire_tanka\n",
    "                    from {table_name}\"\"\"\n",
    "        print(pd.read_sql(sql, con=con))\n",
    "        \n",
    "        sql = f\"\"\"select distinct shiire_tanka\n",
    "                    from {table_name}\"\"\"\n",
    "        print(pd.read_sql(sql, con=con))\n",
    "    except psycopg2.Error as e:\n",
    "        print(f\"unexpected error: {e}\")"
   ]
  },
  {
   "cell_type": "code",
   "execution_count": 48,
   "id": "c5cafeec-7202-42a0-9dce-5b78f41ff3bb",
   "metadata": {},
   "outputs": [
    {
     "name": "stdout",
     "output_type": "stream",
     "text": [
      "  shohin_bunrui    torokubi\n",
      "0            衣服  2009-09-20\n",
      "1          事務用品  2009-09-11\n",
      "2            衣服        None\n",
      "3        キッチン用品  2009-09-20\n",
      "4        キッチン用品  2009-01-15\n",
      "5        キッチン用品  2009-09-20\n",
      "6        キッチン用品  2008-04-28\n",
      "7          事務用品  2009-11-11\n",
      "  shohin_bunrui    torokubi\n",
      "0            衣服        None\n",
      "1        キッチン用品  2009-01-15\n",
      "2            衣服  2009-09-20\n",
      "3        キッチン用品  2008-04-28\n",
      "4          事務用品  2009-11-11\n",
      "5          事務用品  2009-09-11\n",
      "6        キッチン用品  2009-09-20\n"
     ]
    }
   ],
   "source": [
    "# distinction multiple columns\n",
    "# distinction with null data\n",
    "with psycopg2.connect(dst) as con, con.cursor() as cur:\n",
    "    table_name = 'shohin'\n",
    "    try:\n",
    "        sql = f\"\"\"select shohin_bunrui, torokubi\n",
    "                    from {table_name}\"\"\"\n",
    "        print(pd.read_sql(sql, con=con))\n",
    "        \n",
    "        sql = f\"\"\"select distinct shohin_bunrui, torokubi\n",
    "                    from {table_name}\"\"\"\n",
    "        print(pd.read_sql(sql, con=con))\n",
    "    except psycopg2.Error as e:\n",
    "        print(f\"unexpected error: {e}\")"
   ]
  },
  {
   "cell_type": "code",
   "execution_count": 49,
   "id": "23df71e7-3f08-49ea-be17-62e783fcedc1",
   "metadata": {},
   "outputs": [
    {
     "name": "stdout",
     "output_type": "stream",
     "text": [
      "  shohin_id shohin_mei shohin_bunrui  hanbai_tanka  shiire_tanka    torokubi\n",
      "0      0001       Tシャツ            衣服          1000           500  2009-09-20\n",
      "1      0003    カッターシャツ            衣服          4000          2800        None\n"
     ]
    }
   ],
   "source": [
    "# where word for filtering rows\n",
    "with psycopg2.connect(dst) as con, con.cursor() as cur:\n",
    "    table_name = 'shohin'\n",
    "    try:\n",
    "        sql = f\"\"\"select *\n",
    "                    from {table_name}\n",
    "                    where shohin_bunrui = '衣服';\"\"\"\n",
    "        print(pd.read_sql(sql, con=con))\n",
    "    except psycopg2.Error as e:\n",
    "        print(f\"unexpected error: {e}\")"
   ]
  },
  {
   "cell_type": "code",
   "execution_count": 54,
   "id": "93aff25c-4937-4ccc-9b26-2569a2d67d47",
   "metadata": {},
   "outputs": [
    {
     "name": "stdout",
     "output_type": "stream",
     "text": [
      "  shohin_id shohin_mei shohin_bunrui  hanbai_tanka  shiire_tanka    torokubi\n",
      "0      0001       Tシャツ            衣服          1000           500  2009-09-20\n",
      "1      0003    カッターシャツ            衣服          4000          2800        None\n"
     ]
    }
   ],
   "source": [
    "# write comments\n",
    "with psycopg2.connect(dst) as con, con.cursor() as cur:\n",
    "    table_name = 'shohin'\n",
    "    try:\n",
    "        sql = f\"\"\"\n",
    "                -- single line comment\n",
    "                /* muliple\n",
    "                    line\n",
    "                    comment\n",
    "                */\n",
    "                select *\n",
    "                    -- it's able to insert comments between SQL statements\n",
    "                    from {table_name}\n",
    "                    /* hey\n",
    "                        hey\n",
    "                            hey\n",
    "                        */\n",
    "                    where shohin_bunrui = '衣服';\"\"\"\n",
    "        print(pd.read_sql(sql, con=con))\n",
    "    except psycopg2.Error as e:\n",
    "        print(f\"unexpected error: {e}\")"
   ]
  }
 ],
 "metadata": {
  "kernelspec": {
   "display_name": "Python 3 (ipykernel)",
   "language": "python",
   "name": "python3"
  },
  "language_info": {
   "codemirror_mode": {
    "name": "ipython",
    "version": 3
   },
   "file_extension": ".py",
   "mimetype": "text/x-python",
   "name": "python",
   "nbconvert_exporter": "python",
   "pygments_lexer": "ipython3",
   "version": "3.9.7"
  }
 },
 "nbformat": 4,
 "nbformat_minor": 5
}
