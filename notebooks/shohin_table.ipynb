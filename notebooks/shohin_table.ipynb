{
 "cells": [
  {
   "cell_type": "code",
   "execution_count": 1,
   "id": "496719ab-a7b5-410d-aab7-7913dbe56948",
   "metadata": {},
   "outputs": [],
   "source": [
    "import psycopg2\n",
    "import pandas as pd\n",
    "\n",
    "username = \"postgres\"\n",
    "password = \"test\"\n",
    "hostname = \"db\"\n",
    "port = \"5432\"\n",
    "database = \"test\"\n",
    "\n",
    "dst = f\"postgresql://{username}:{password}@{hostname}:{port}/{database}\"\n",
    "con = psycopg2.connect(dst)"
   ]
  },
  {
   "cell_type": "code",
   "execution_count": 11,
   "id": "6f4602c4-65e0-4eeb-81e9-ec8eb2f94fe9",
   "metadata": {},
   "outputs": [
    {
     "name": "stdout",
     "output_type": "stream",
     "text": [
      "Empty DataFrame\n",
      "Columns: [shohin_id, shohin_mei, shohin_bunrui, hanbai_tanka, shiire_tanka, torokubi]\n",
      "Index: []\n"
     ]
    }
   ],
   "source": [
    "# create table\n",
    "def create_shohin_table(cur):\n",
    "    table_name = 'shohin'\n",
    "    cur.execute(f\"drop table if exists {table_name}\")\n",
    "    cur.execute(f\"\"\"create table {table_name} (\n",
    "        shohin_id char(4) not null,\n",
    "        shohin_mei varchar(100) not null,\n",
    "        shohin_bunrui varchar(32) not null,\n",
    "        hanbai_tanka integer,\n",
    "        shiire_tanka integer,\n",
    "        torokubi date,\n",
    "        primary key (shohin_id));\"\"\")\n",
    "    return cur\n",
    "\n",
    "with psycopg2.connect(dst) as con, con.cursor() as cur:\n",
    "    try:\n",
    "        create_shohin_table(cur)\n",
    "        sql = f\"select * from shohin\"\n",
    "        print(pd.read_sql(sql, con=con))\n",
    "    except psycopg2.Error as er:\n",
    "        print('psycopg2.Error:', er)"
   ]
  },
  {
   "cell_type": "code",
   "execution_count": 19,
   "id": "38933ef9-a144-46dc-b490-35856c083ff8",
   "metadata": {},
   "outputs": [
    {
     "name": "stdout",
     "output_type": "stream",
     "text": [
      "expected error Execution failed on sql 'select * from shohin': relation \"shohin\" does not exist\n",
      "LINE 1: select * from shohin\n",
      "                      ^\n",
      "\n"
     ]
    }
   ],
   "source": [
    "# drop table\n",
    "with psycopg2.connect(dst) as con, con.cursor() as cur:\n",
    "    table_name = 'shohin'\n",
    "    try:\n",
    "        cur.execute(f\"drop table {table_name};\")\n",
    "        sql = f\"select * from shohin\"\n",
    "        print(pd.read_sql(sql, con=con))\n",
    "    except pd.io.sql.DatabaseError as e:\n",
    "        print(f\"expected error {e}\") "
   ]
  },
  {
   "cell_type": "code",
   "execution_count": 24,
   "id": "c16b3eac-09e7-4c37-a16a-8ec35937d271",
   "metadata": {},
   "outputs": [
    {
     "name": "stdout",
     "output_type": "stream",
     "text": [
      "Empty DataFrame\n",
      "Columns: [shohin_id, shohin_mei, shohin_bunrui, hanbai_tanka, shiire_tanka, torokubi]\n",
      "Index: []\n",
      "Empty DataFrame\n",
      "Columns: [shohin_id, shohin_mei, shohin_bunrui, hanbai_tanka, shiire_tanka, torokubi, shohin_mai_kana]\n",
      "Index: []\n",
      "Empty DataFrame\n",
      "Columns: [shohin_id, shohin_mei, shohin_bunrui, hanbai_tanka, shiire_tanka, torokubi]\n",
      "Index: []\n"
     ]
    }
   ],
   "source": [
    "# arrange column\n",
    "with psycopg2.connect(dst) as con, con.cursor() as cur:\n",
    "    table_name = 'shohin'\n",
    "    try:\n",
    "        create_shohin_table(cur)\n",
    "        \n",
    "        sql = f\"select * from {table_name};\"\n",
    "        print(pd.read_sql(sql, con=con))\n",
    "        \n",
    "        cur.execute(f\"alter table {table_name} add column shohin_mai_kana varchar(100)\")\n",
    "        print(pd.read_sql(sql, con=con))\n",
    "        \n",
    "        cur.execute(f\"alter table {table_name} drop column shohin_mai_kana;\")\n",
    "        print(pd.read_sql(sql, con=con))\n",
    "    except psycopg2.Error as e:\n",
    "        print(f\"unexpected error: {e}\")"
   ]
  },
  {
   "cell_type": "code",
   "execution_count": null,
   "id": "f7f97bd6-1ecd-4bc1-8e03-ead991ac8c60",
   "metadata": {},
   "outputs": [],
   "source": []
  }
 ],
 "metadata": {
  "kernelspec": {
   "display_name": "Python 3 (ipykernel)",
   "language": "python",
   "name": "python3"
  },
  "language_info": {
   "codemirror_mode": {
    "name": "ipython",
    "version": 3
   },
   "file_extension": ".py",
   "mimetype": "text/x-python",
   "name": "python",
   "nbconvert_exporter": "python",
   "pygments_lexer": "ipython3",
   "version": "3.9.7"
  }
 },
 "nbformat": 4,
 "nbformat_minor": 5
}
