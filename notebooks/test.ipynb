{
 "cells": [
  {
   "cell_type": "code",
   "execution_count": 18,
   "id": "ec58f027-503d-4fc8-9134-1f94bdc49629",
   "metadata": {},
   "outputs": [
    {
     "name": "stdout",
     "output_type": "stream",
     "text": [
      "   message_id       message\n",
      "0         100  hello world!\n"
     ]
    }
   ],
   "source": [
    "import psycopg2\n",
    "import pandas as pd\n",
    "\n",
    "username = \"postgres\"\n",
    "password = \"test\"\n",
    "hostname = \"db\"\n",
    "port = \"5432\"\n",
    "database = \"test\"\n",
    "\n",
    "\n",
    "dst = f\"postgresql://{username}:{password}@{hostname}:{port}/{database}\"\n",
    "con = psycopg2.connect(dst)\n",
    "\n",
    "with psycopg2.connect(dst) as con, con.cursor() as cur:\n",
    "    try:\n",
    "        table_name = \"messages\"\n",
    "        cur.execute(f\"drop table if exists {table_name}\") \n",
    "        cur.execute(f\"create table {table_name} (message_id integer, message varchar(100))\")\n",
    "        cur.execute(f\"insert into {table_name} values (100, 'hello world!')\")\n",
    "\n",
    "        sql = \"select * from messages\"\n",
    "        print(pd.read_sql(sql, con=con))\n",
    "    except psycopg2.Error as er:\n",
    "        print('psycopg2.Error:', er)"
   ]
  }
 ],
 "metadata": {
  "kernelspec": {
   "display_name": "Python 3 (ipykernel)",
   "language": "python",
   "name": "python3"
  },
  "language_info": {
   "codemirror_mode": {
    "name": "ipython",
    "version": 3
   },
   "file_extension": ".py",
   "mimetype": "text/x-python",
   "name": "python",
   "nbconvert_exporter": "python",
   "pygments_lexer": "ipython3",
   "version": "3.9.7"
  }
 },
 "nbformat": 4,
 "nbformat_minor": 5
}
